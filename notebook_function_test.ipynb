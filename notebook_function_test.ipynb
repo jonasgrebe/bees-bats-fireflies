{
 "cells": [
  {
   "cell_type": "markdown",
   "metadata": {},
   "source": [
    "# Optimization of test functions\n",
    "### import the three metaheuristic algorithms"
   ]
  },
  {
   "cell_type": "code",
   "execution_count": 1,
   "metadata": {},
   "outputs": [],
   "source": [
    "from metaheuristics.bat import BatAlgorithm\n",
    "from metaheuristics.bees import BeesAlgorithm\n",
    "from metaheuristics.firefly import FireflyAlgorithm"
   ]
  },
  {
   "cell_type": "markdown",
   "metadata": {},
   "source": [
    "### define the test functions (independent of their dimensionality)"
   ]
  },
  {
   "cell_type": "code",
   "execution_count": 2,
   "metadata": {},
   "outputs": [],
   "source": [
    "rosenbrock_fct = lambda x: sum([100*(x[i+1]-x[i])**2+(1-x[i])**2 for i in range(len(x)-1)])\n",
    "sphere_fct = lambda x: sum([x[i]**2 for i in range(len(x))])\n",
    "rastrigin_fct = lambda x: 10*len(x)+sum([x[i]**2-10*np.cos(2*np.pi*x[i]) for i in range(len(x))])"
   ]
  },
  {
   "cell_type": "markdown",
   "metadata": {},
   "source": [
    "### algorithm-independent parameters"
   ]
  },
  {
   "cell_type": "code",
   "execution_count": 3,
   "metadata": {},
   "outputs": [],
   "source": [
    "d = 2 # dimensionality of solution-space\n",
    "n = 100 # size of population, related to amount of bees, bats and fireflies\n",
    "range_min, range_max = -5.0, 5.0 # solution-space range (in all dimensions)\n",
    "T = 100 # number of iterations"
   ]
  },
  {
   "cell_type": "markdown",
   "metadata": {},
   "source": [
    "### algorithm-specific parameters and instantiations"
   ]
  },
  {
   "cell_type": "code",
   "execution_count": 4,
   "metadata": {},
   "outputs": [
    {
     "name": "stdout",
     "output_type": "stream",
     "text": [
      "bees {'d': 2, 'n': 100, 'range_min': -5.0, 'range_max': 5.0, 'nb': 50, 'ne': 20, 'nrb': 5, 'nre': 10, 'shrink_factor': 0.8, 'stgn_lim': 5}\n",
      "bat {'d': 2, 'n': 100, 'range_min': -5.0, 'range_max': 5.0, 'a': 0.5, 'r_min': 0.7, 'r_max': 1.0, 'alpha': 0.9, 'gamma': 0.9, 'f_min': 0.0, 'f_max': 5.0}\n",
      "firefly {'d': 2, 'n': 100, 'range_min': -5.0, 'range_max': 5.0, 'alpha': 1.0, 'beta_max': 1.0, 'gamma': 0.5}\n"
     ]
    }
   ],
   "source": [
    "bees = BeesAlgorithm(d=d, n=n, range_min=range_min, range_max=range_max,\n",
    "                     nb=50, ne=20, nrb=5, nre=10, shrink_factor=0.8, stgn_lim=5)\n",
    "\n",
    "bat = BatAlgorithm(d=d, n=n, range_min=range_min, range_max=range_max,\n",
    "                   a=0.5, r_min=0.7, r_max=1.0, alpha=0.9, gamma=0.9, f_min=0.0, f_max=5.0)\n",
    "\n",
    "firefly = FireflyAlgorithm(d=d, n=n, range_min=range_min, range_max=range_max,\n",
    "                           alpha=1.0, beta_max=1.0, gamma=0.5)"
   ]
  },
  {
   "cell_type": "markdown",
   "metadata": {},
   "source": [
    "### specify the objective"
   ]
  },
  {
   "cell_type": "code",
   "execution_count": 5,
   "metadata": {},
   "outputs": [],
   "source": [
    "objective = 'min'\n",
    "objective_fct = rosenbrock_fct"
   ]
  },
  {
   "cell_type": "markdown",
   "metadata": {},
   "source": [
    "### apply bees algorithm"
   ]
  },
  {
   "cell_type": "code",
   "execution_count": 6,
   "metadata": {},
   "outputs": [
    {
     "name": "stdout",
     "output_type": "stream",
     "text": [
      "(array([0.86507136, 0.86357016]), 0.018431096986891427)\n",
      "0.46875\n"
     ]
    },
    {
     "data": {
      "image/png": "[encoded data removed]",
      "text/plain": [
       "<Figure size 432x288 with 1 Axes>"
      ]
     },
     "metadata": {
      "needs_background": "light"
     },
     "output_type": "display_data"
    }
   ],
   "source": [
    "solution, latency = bees.search(objective, objective_fct, T)\n",
    "print(solution)\n",
    "print(latency)\n",
    "bees.plot_history()"
   ]
  },
  {
   "cell_type": "markdown",
   "metadata": {},
   "source": [
    "### apply bat algorithm"
   ]
  },
  {
   "cell_type": "code",
   "execution_count": 7,
   "metadata": {
    "scrolled": true
   },
   "outputs": [
    {
     "name": "stdout",
     "output_type": "stream",
     "text": [
      "(array([1.04541156, 1.04392804]), 0.0022822958265958228)\n",
      "0.28125\n"
     ]
    },
    {
     "data": {
      "image/png": "[encoded data removed]",
      "text/plain": [
       "<Figure size 432x288 with 1 Axes>"
      ]
     },
     "metadata": {
      "needs_background": "light"
     },
     "output_type": "display_data"
    }
   ],
   "source": [
    "solution, latency = bat.search(objective, objective_fct, T)\n",
    "print(solution)\n",
    "print(latency)\n",
    "bat.plot_history()"
   ]
  },
  {
   "cell_type": "markdown",
   "metadata": {},
   "source": [
    "### apply firefly algorithm"
   ]
  },
  {
   "cell_type": "code",
   "execution_count": 8,
   "metadata": {},
   "outputs": [
    {
     "name": "stdout",
     "output_type": "stream",
     "text": [
      "(array([1.00181059, 1.0014151 ]), 1.8919734517136668e-05)\n",
      "20.015625\n"
     ]
    },
    {
     "data": {
      "image/png": "[encoded data removed]",
      "text/plain": [
       "<Figure size 432x288 with 1 Axes>"
      ]
     },
     "metadata": {
      "needs_background": "light"
     },
     "output_type": "display_data"
    }
   ],
   "source": [
    "solution, latency = firefly.search(objective, objective_fct, T)\n",
    "print(solution)\n",
    "print(latency)\n",
    "firefly.plot_history()"
   ]
  }
 ],
 "metadata": {
  "kernelspec": {
   "display_name": "Python 3",
   "language": "python",
   "name": "python3"
  },
  "language_info": {
   "codemirror_mode": {
    "name": "ipython",
    "version": 3
   },
   "file_extension": ".py",
   "mimetype": "text/x-python",
   "name": "python",
   "nbconvert_exporter": "python",
   "pygments_lexer": "ipython3",
   "version": "3.6.8"
  }
 },
 "nbformat": 4,
 "nbformat_minor": 2
}
