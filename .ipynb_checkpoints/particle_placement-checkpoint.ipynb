{
 "cells": [
  {
   "cell_type": "code",
   "execution_count": 1,
   "metadata": {},
   "outputs": [],
   "source": [
    "from bat import BatAlgorithm\n",
    "from bees import BeesAlgorithm\n",
    "from firefly import FireflyAlgorithm, SortedFireflyAlgorithm # two variants with time complexities of O(Tn^2) and O(Tnlogn)"
   ]
  },
  {
   "cell_type": "code",
   "execution_count": 22,
   "metadata": {},
   "outputs": [],
   "source": [
    "import numpy as np\n",
    "import matplotlib.pyplot as plt"
   ]
  },
  {
   "cell_type": "code",
   "execution_count": 72,
   "metadata": {},
   "outputs": [],
   "source": [
    "def create_particle_placement_loss(k):\n",
    "    def particle_placement_loss(x):\n",
    "        positions = np.split(x, k)\n",
    "        min_dist = np.infty\n",
    "        for i in range(k):\n",
    "            for j in range(i+1,k):\n",
    "                min_dist = np.minimum(min_dist, np.sqrt(np.sum(np.square(positions[i]-positions[j]))))\n",
    "        return min_dist\n",
    "    return particle_placement_loss"
   ]
  },
  {
   "cell_type": "code",
   "execution_count": 73,
   "metadata": {},
   "outputs": [],
   "source": [
    "objective = 'max'\n",
    "n = 100\n",
    "k = 10\n",
    "d = 2 * k\n",
    "range_min  = -5.0\n",
    "range_max = 5.0\n",
    "T = 200"
   ]
  },
  {
   "cell_type": "code",
   "execution_count": 74,
   "metadata": {},
   "outputs": [],
   "source": [
    "bees = BeesAlgorithm(d=d, n=n, range_min=range_min, range_max=range_max,\n",
    "                     nb=50, ne=20, nrb=5, nre=10, shrink_factor=0.8, stgn_lim=5)\n",
    "\n",
    "bat = BatAlgorithm(d=d, n=n, range_min=range_min, range_max=range_max,\n",
    "                   a=0.5, r=0.5, q_min=0.0, q_max=3.0)\n",
    "\n",
    "firefly = SortedFireflyAlgorithm(d=d, n=n, range_min=range_min, range_max=range_max,\n",
    "                           alpha=1.0, beta0=1.0, gamma=0.5)"
   ]
  },
  {
   "cell_type": "code",
   "execution_count": 75,
   "metadata": {},
   "outputs": [],
   "source": [
    "particle_placement_loss = create_particle_placement_loss(k)"
   ]
  },
  {
   "cell_type": "code",
   "execution_count": 76,
   "metadata": {},
   "outputs": [
    {
     "name": "stdout",
     "output_type": "stream",
     "text": [
      "(array([ 1.06495443,  2.62317569,  0.30302725,  1.56363061,  0.94281627,\n",
      "        3.34527951, -0.34782114,  2.73090842, -0.39214371,  2.22820913,\n",
      "       -1.62450752,  3.17864213,  0.55155996,  3.73957269,  1.07966906,\n",
      "        2.98298671, -0.6617481 ,  3.18151923, -0.8956374 ,  1.46019211]), 2.74622441468658)\n",
      "76.56015060000027\n"
     ]
    },
    {
     "data": {
      "image/png": "[encoded data removed]",
      "text/plain": [
       "<Figure size 432x288 with 1 Axes>"
      ]
     },
     "metadata": {
      "needs_background": "light"
     },
     "output_type": "display_data"
    }
   ],
   "source": [
    "solution, latency = bees.search(objective, particle_placement_loss, T)\n",
    "solution_x, solution_y = solution\n",
    "print(solution)\n",
    "print(latency)\n",
    "bees.plot_history()"
   ]
  },
  {
   "cell_type": "code",
   "execution_count": 77,
   "metadata": {},
   "outputs": [
    {
     "data": {
      "image/png": "[encoded data removed]",
      "text/plain": [
       "<Figure size 432x288 with 1 Axes>"
      ]
     },
     "metadata": {
      "needs_background": "light"
     },
     "output_type": "display_data"
    }
   ],
   "source": [
    "solution_positions = np.array(np.split(solution_x, k))\n",
    "plt.scatter(solution_positions.T[0], solution_positions.T[1])\n",
    "plt.show()"
   ]
  },
  {
   "cell_type": "code",
   "execution_count": null,
   "metadata": {},
   "outputs": [],
   "source": []
  }
 ],
 "metadata": {
  "kernelspec": {
   "display_name": "Python 3",
   "language": "python",
   "name": "python3"
  },
  "language_info": {
   "codemirror_mode": {
    "name": "ipython",
    "version": 3
   },
   "file_extension": ".py",
   "mimetype": "text/x-python",
   "name": "python",
   "nbconvert_exporter": "python",
   "pygments_lexer": "ipython3",
   "version": "3.6.8"
  }
 },
 "nbformat": 4,
 "nbformat_minor": 2
}
