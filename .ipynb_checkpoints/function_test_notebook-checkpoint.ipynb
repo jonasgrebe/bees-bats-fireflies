{
 "cells": [
  {
   "cell_type": "code",
   "execution_count": 1,
   "metadata": {},
   "outputs": [],
   "source": [
    "from bat import BatAlgorithm\n",
    "from bees import BeesAlgorithm\n",
    "from firefly import FireflyAlgorithm"
   ]
  },
  {
   "cell_type": "code",
   "execution_count": 2,
   "metadata": {},
   "outputs": [],
   "source": [
    "rosenbrock_fct = lambda x: sum([100*(x[i+1]-x[i])**2+(1-x[i])**2 for i in range(len(x)-1)])\n",
    "sphere_fct = lambda x: sum([x[i]**2 for i in range(len(x))])\n",
    "rastrigin_fct = lambda x: 10*len(x)+sum([x[i]**2-10*np.cos(2*np.pi*x[i]) for i in range(len(x))])"
   ]
  },
  {
   "cell_type": "code",
   "execution_count": 3,
   "metadata": {},
   "outputs": [],
   "source": [
    "d = 2 # dimensionality of solution-space\n",
    "n = 100 # size of population, related to amount of bees, bats and fireflies\n",
    "range_min, range_max = -5.0, 5.0 # solution-space range (in all dimensions)\n",
    "T = 100 # number of iterations"
   ]
  },
  {
   "cell_type": "code",
   "execution_count": 4,
   "metadata": {},
   "outputs": [],
   "source": [
    "bees = BeesAlgorithm(d=d, n=n, range_min=range_min, range_max=range_max,\n",
    "                     nb=50, ne=20, nrb=5, nre=10, shrink_factor=0.8, stgn_lim=5)\n",
    "\n",
    "bat = BatAlgorithm(d=d, n=n, range_min=range_min, range_max=range_max,\n",
    "                   a=0.5, r=0.5, q_min=0.0, q_max=3.0)\n",
    "\n",
    "firefly = FireflyAlgorithm(d=d, n=n, range_min=range_min, range_max=range_max,\n",
    "                           alpha=1.0, beta0=1.0, gamma=0.5)"
   ]
  },
  {
   "cell_type": "code",
   "execution_count": 5,
   "metadata": {},
   "outputs": [],
   "source": [
    "objective = 'min'\n",
    "objective_fct = rosenbrock_fct # sphere_fct, rastrigin_fct"
   ]
  },
  {
   "cell_type": "code",
   "execution_count": 6,
   "metadata": {},
   "outputs": [
    {
     "name": "stdout",
     "output_type": "stream",
     "text": [
      "(array([0.99848831, 0.99920794]), 5.4072565773328435e-05)\n"
     ]
    },
    {
     "data": {
      "image/png": "[encoded data removed]",
      "text/plain": [
       "<Figure size 432x288 with 1 Axes>"
      ]
     },
     "metadata": {
      "needs_background": "light"
     },
     "output_type": "display_data"
    }
   ],
   "source": [
    "solution, latency = bees.search(objective, objective_fct, T)\n",
    "print(solution)\n",
    "bees.plot_history()"
   ]
  },
  {
   "cell_type": "code",
   "execution_count": 7,
   "metadata": {},
   "outputs": [
    {
     "name": "stdout",
     "output_type": "stream",
     "text": [
      "(array([1.00323623, 1.00315919]), 1.1066627491429904e-05)\n"
     ]
    },
    {
     "data": {
      "image/png": "[encoded data removed]",
      "text/plain": [
       "<Figure size 432x288 with 1 Axes>"
      ]
     },
     "metadata": {
      "needs_background": "light"
     },
     "output_type": "display_data"
    }
   ],
   "source": [
    "solution, latency = bat.search(objective, objective_fct, T)\n",
    "print(solution)\n",
    "print(latency)\n",
    "bat.plot_history()"
   ]
  },
  {
   "cell_type": "code",
   "execution_count": 8,
   "metadata": {},
   "outputs": [
    {
     "name": "stdout",
     "output_type": "stream",
     "text": [
      "(array([0.99900725, 0.99905338]), 1.1983130843808998e-06)\n"
     ]
    },
    {
     "data": {
      "image/png": "[encoded data removed]",
      "text/plain": [
       "<Figure size 432x288 with 1 Axes>"
      ]
     },
     "metadata": {
      "needs_background": "light"
     },
     "output_type": "display_data"
    }
   ],
   "source": [
    "solution, latency = firefly.search(objective, objective_fct, T)\n",
    "print(solution)\n",
    "firefly.plot_history()"
   ]
  },
  {
   "cell_type": "code",
   "execution_count": null,
   "metadata": {},
   "outputs": [],
   "source": []
  }
 ],
 "metadata": {
  "kernelspec": {
   "display_name": "Python 3",
   "language": "python",
   "name": "python3"
  },
  "language_info": {
   "codemirror_mode": {
    "name": "ipython",
    "version": 3
   },
   "file_extension": ".py",
   "mimetype": "text/x-python",
   "name": "python",
   "nbconvert_exporter": "python",
   "pygments_lexer": "ipython3",
   "version": "3.6.8"
  }
 },
 "nbformat": 4,
 "nbformat_minor": 2
}
