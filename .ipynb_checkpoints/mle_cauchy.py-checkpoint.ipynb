{
 "cells": [
  {
   "cell_type": "markdown",
   "metadata": {},
   "source": [
    "# Maximum Likelihood Estimation - Cauchy Distribution"
   ]
  },
  {
   "cell_type": "code",
   "execution_count": 1,
   "metadata": {},
   "outputs": [],
   "source": [
    "import numpy as np\n",
    "import matplotlib.pyplot as plt\n",
    "from scipy.stats import cauchy"
   ]
  },
  {
   "cell_type": "code",
   "execution_count": 2,
   "metadata": {},
   "outputs": [],
   "source": [
    "x0 = 42\n",
    "gamma = 7"
   ]
  },
  {
   "cell_type": "code",
   "execution_count": 3,
   "metadata": {},
   "outputs": [
    {
     "name": "stdout",
     "output_type": "stream",
     "text": [
      "[62.94712295 56.53532589 61.75408574 ... 42.93822073 48.25074412\n",
      " 36.7191521 ]\n"
     ]
    }
   ],
   "source": [
    "samples = cauchy.rvs(loc=x0, scale=gamma, size=100000)\n",
    "\n",
    "def log_likelihood_cauchy(x):\n",
    "    x0, gamma = x[0], x[1]\n",
    "    return -len(samples) * np.log(gamma*np.pi)- np.sum(np.log(1+np.square((samples-x0)/gamma)))\n",
    "\n",
    "print(samples)"
   ]
  },
  {
   "cell_type": "code",
   "execution_count": 4,
   "metadata": {},
   "outputs": [],
   "source": [
    "objective = 'max'\n",
    "objective_fct = log_likelihood_cauchy"
   ]
  },
  {
   "cell_type": "code",
   "execution_count": 5,
   "metadata": {},
   "outputs": [],
   "source": [
    "d, n = 2, 100\n",
    "range_min = (0, 0)\n",
    "range_max = (100, 100)\n",
    "\n",
    "T, R = 100, 10"
   ]
  },
  {
   "cell_type": "code",
   "execution_count": 6,
   "metadata": {},
   "outputs": [
    {
     "name": "stdout",
     "output_type": "stream",
     "text": [
      "bees {'d': 2, 'n': 100, 'range_min': (0, 0), 'range_max': (100, 100), 'nb': 30, 'ne': 10, 'nrb': 10, 'nre': 20, 'sf': 0.99, 'sl': 10}\n"
     ]
    }
   ],
   "source": [
    "from bees import ImprovedBeesAlgorithm\n",
    "from bat import BatAlgorithm\n",
    "from firefly import FireflyAlgorithm\n",
    "\n",
    "algo = ImprovedBeesAlgorithm(d=d, n=n, range_min=range_min, range_max=range_max,\n",
    "                             nb=30, ne=10, nrb=10, nre=20, sf=0.99, sl=10)\n"
   ]
  },
  {
   "cell_type": "code",
   "execution_count": 7,
   "metadata": {},
   "outputs": [
    {
     "name": "stderr",
     "output_type": "stream",
     "text": [
      "C:\\Users\\Jonas\\Anaconda3\\lib\\site-packages\\ipykernel_launcher.py:5: RuntimeWarning: divide by zero encountered in log\n",
      "  \"\"\"\n",
      "C:\\Users\\Jonas\\Anaconda3\\lib\\site-packages\\ipykernel_launcher.py:5: RuntimeWarning: divide by zero encountered in true_divide\n",
      "  \"\"\"\n",
      "C:\\Users\\Jonas\\Anaconda3\\lib\\site-packages\\ipykernel_launcher.py:5: RuntimeWarning: invalid value encountered in double_scalars\n",
      "  \"\"\"\n"
     ]
    },
    {
     "name": "stdout",
     "output_type": "stream",
     "text": [
      "x_mean [41.96994625  6.88433935]\n",
      "latency 38.97582184\n",
      "x_std [0.29915405 0.30433438]\n"
     ]
    }
   ],
   "source": [
    "\n",
    "solution, latency = algo.search(objective, objective_fct, T, visualize=False)\n",
    "print(\"(x, y):\", solution)\n",
    "print(\"latency\", latency)\n",
    "    \n"
   ]
  }
 ],
 "metadata": {
  "kernelspec": {
   "display_name": "Python 3",
   "language": "python",
   "name": "python3"
  },
  "language_info": {
   "codemirror_mode": {
    "name": "ipython",
    "version": 3
   },
   "file_extension": ".py",
   "mimetype": "text/x-python",
   "name": "python",
   "nbconvert_exporter": "python",
   "pygments_lexer": "ipython3",
   "version": "3.6.8"
  }
 },
 "nbformat": 4,
 "nbformat_minor": 2
}
