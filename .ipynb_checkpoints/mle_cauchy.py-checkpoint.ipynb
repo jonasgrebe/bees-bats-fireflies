{
 "cells": [
  {
   "cell_type": "markdown",
   "metadata": {},
   "source": [
    "# Maximum Likelihood Estimation - Cauchy Distribution"
   ]
  },
  {
   "cell_type": "code",
   "execution_count": 1,
   "metadata": {},
   "outputs": [],
   "source": [
    "import numpy as np\n",
    "import matplotlib.pyplot as plt\n",
    "from scipy.stats import cauchy"
   ]
  },
  {
   "cell_type": "markdown",
   "metadata": {},
   "source": [
    "specify the ground-truth parameters and the number of the random samples"
   ]
  },
  {
   "cell_type": "code",
   "execution_count": 2,
   "metadata": {},
   "outputs": [],
   "source": [
    "x0 = 42\n",
    "gamma = 7\n",
    "N = 10000"
   ]
  },
  {
   "cell_type": "markdown",
   "metadata": {},
   "source": [
    "define the log-likelihood function for the cauchy distribution"
   ]
  },
  {
   "cell_type": "code",
   "execution_count": 3,
   "metadata": {},
   "outputs": [
    {
     "name": "stdout",
     "output_type": "stream",
     "text": [
      "[46.78245663 48.25817563 28.5229988  ... 42.10127391 38.26951059\n",
      " 36.13905268]\n"
     ]
    }
   ],
   "source": [
    "samples = cauchy.rvs(loc=x0, scale=gamma, size=N)\n",
    "\n",
    "def log_likelihood_cauchy(x):\n",
    "    x0, gamma = x[0], x[1]\n",
    "    return -len(samples) * np.log(gamma*np.pi)- np.sum(np.log(1+np.square((samples-x0)/gamma)))\n",
    "\n",
    "print(samples)"
   ]
  },
  {
   "cell_type": "markdown",
   "metadata": {},
   "source": [
    "setup the maximization problem"
   ]
  },
  {
   "cell_type": "code",
   "execution_count": 4,
   "metadata": {},
   "outputs": [],
   "source": [
    "objective = 'max'\n",
    "objective_fct = log_likelihood_cauchy"
   ]
  },
  {
   "cell_type": "code",
   "execution_count": 5,
   "metadata": {},
   "outputs": [],
   "source": [
    "d, n = 2, 100\n",
    "range_min = (0, 0)\n",
    "range_max = (100, 100)\n",
    "\n",
    "T = 100"
   ]
  },
  {
   "cell_type": "markdown",
   "metadata": {},
   "source": [
    "import the metaheuristic algorithm and instantiate it"
   ]
  },
  {
   "cell_type": "code",
   "execution_count": 6,
   "metadata": {},
   "outputs": [
    {
     "name": "stdout",
     "output_type": "stream",
     "text": [
      "bees {'d': 2, 'n': 100, 'range_min': (0, 0), 'range_max': (100, 100), 'nb': 30, 'ne': 10, 'nrb': 10, 'nre': 20, 'sf': 0.99, 'sl': 10}\n"
     ]
    }
   ],
   "source": [
    "from metaheuristics.bees import ImprovedBeesAlgorithm\n",
    "from metaheuristics.bat import BatAlgorithm\n",
    "from metaheuristics.firefly import FireflyAlgorithm\n",
    "\n",
    "algo = ImprovedBeesAlgorithm(d=d, n=n, range_min=range_min, range_max=range_max,\n",
    "                             nb=30, ne=10, nrb=10, nre=20, sf=0.99, sl=10)\n"
   ]
  },
  {
   "cell_type": "markdown",
   "metadata": {},
   "source": [
    "start the search"
   ]
  },
  {
   "cell_type": "code",
   "execution_count": 7,
   "metadata": {
    "scrolled": true
   },
   "outputs": [
    {
     "name": "stderr",
     "output_type": "stream",
     "text": [
      "C:\\Users\\Jonas\\Anaconda3\\lib\\site-packages\\ipykernel_launcher.py:5: RuntimeWarning: divide by zero encountered in log\n",
      "  \"\"\"\n",
      "C:\\Users\\Jonas\\Anaconda3\\lib\\site-packages\\ipykernel_launcher.py:5: RuntimeWarning: divide by zero encountered in true_divide\n",
      "  \"\"\"\n",
      "C:\\Users\\Jonas\\Anaconda3\\lib\\site-packages\\ipykernel_launcher.py:5: RuntimeWarning: invalid value encountered in double_scalars\n",
      "  \"\"\"\n"
     ]
    },
    {
     "name": "stdout",
     "output_type": "stream",
     "text": [
      "(x, y): (array([41.60312619,  6.70607116]), -44791.16722974504)\n",
      "latency 5.34375\n"
     ]
    }
   ],
   "source": [
    "\n",
    "solution, latency = algo.search(objective, objective_fct, T, visualize=False)\n",
    "print(\"(x, y):\", solution)\n",
    "print(\"latency\", latency)\n",
    "    "
   ]
  }
 ],
 "metadata": {
  "kernelspec": {
   "display_name": "Python 3",
   "language": "python",
   "name": "python3"
  },
  "language_info": {
   "codemirror_mode": {
    "name": "ipython",
    "version": 3
   },
   "file_extension": ".py",
   "mimetype": "text/x-python",
   "name": "python",
   "nbconvert_exporter": "python",
   "pygments_lexer": "ipython3",
   "version": "3.6.8"
  }
 },
 "nbformat": 4,
 "nbformat_minor": 2
}
