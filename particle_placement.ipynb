{
 "cells": [
  {
   "cell_type": "code",
   "execution_count": 1,
   "metadata": {},
   "outputs": [],
   "source": [
    "from bat import BatAlgorithm\n",
    "from bees import BeesAlgorithm\n",
    "from firefly import FireflyAlgorithm, SortedFireflyAlgorithm # two variants with time complexities of O(Tn^2) and O(Tnlogn)"
   ]
  },
  {
   "cell_type": "code",
   "execution_count": 22,
   "metadata": {},
   "outputs": [],
   "source": [
    "import numpy as np\n",
    "import matplotlib.pyplot as plt"
   ]
  },
  {
   "cell_type": "code",
   "execution_count": 78,
   "metadata": {},
   "outputs": [],
   "source": [
    "def create_particle_placement_loss(k):\n",
    "    def particle_placement_loss(x):\n",
    "        positions = np.split(x, k)\n",
    "        min_dist = np.infty\n",
    "        for i in range(k):\n",
    "            for j in range(i+1,k):\n",
    "                min_dist = np.minimum(min_dist, np.sqrt(np.sum(np.square(positions[i]-positions[j]))))\n",
    "        return min_dist\n",
    "    return particle_placement_loss"
   ]
  },
  {
   "cell_type": "code",
   "execution_count": 79,
   "metadata": {},
   "outputs": [],
   "source": [
    "objective = 'max'\n",
    "n = 100\n",
    "k = 20\n",
    "d = 2 * k\n",
    "range_min  = -5.0\n",
    "range_max = 5.0\n",
    "T = 200"
   ]
  },
  {
   "cell_type": "code",
   "execution_count": 80,
   "metadata": {},
   "outputs": [],
   "source": [
    "bees = BeesAlgorithm(d=d, n=n, range_min=range_min, range_max=range_max,\n",
    "                     nb=50, ne=20, nrb=5, nre=10, shrink_factor=0.8, stgn_lim=5)\n",
    "\n",
    "bat = BatAlgorithm(d=d, n=n, range_min=range_min, range_max=range_max,\n",
    "                   a=0.5, r=0.5, q_min=0.0, q_max=3.0)\n",
    "\n",
    "firefly = SortedFireflyAlgorithm(d=d, n=n, range_min=range_min, range_max=range_max,\n",
    "                           alpha=1.0, beta0=1.0, gamma=0.5)"
   ]
  },
  {
   "cell_type": "code",
   "execution_count": 81,
   "metadata": {},
   "outputs": [],
   "source": [
    "particle_placement_loss = create_particle_placement_loss(k)"
   ]
  },
  {
   "cell_type": "code",
   "execution_count": 82,
   "metadata": {},
   "outputs": [
    {
     "name": "stdout",
     "output_type": "stream",
     "text": [
      "(array([ 3.48713736,  2.39150337,  4.81710345, -5.        ,  0.82584455,\n",
      "       -4.79256284,  0.11370687, -3.24930682,  0.69827095, -1.1136775 ,\n",
      "       -4.71354088,  0.58397928,  0.57459372,  3.44081545, -4.15749185,\n",
      "       -3.63245392,  2.57409078, -4.16867577,  1.81074988,  1.73097135,\n",
      "        4.46860777, -2.80085781,  2.03148434, -2.60044051, -2.32512332,\n",
      "        1.24735965, -2.1370792 , -3.77971469, -4.19118657,  2.95168431,\n",
      "       -5.        , -1.61917746,  0.43079261,  0.58734473, -3.70838933,\n",
      "        4.66845899,  3.15613334, -0.20918298,  3.27250254,  4.21810544]), 1.6594527913290051)\n",
      "290.4371166000001\n"
     ]
    },
    {
     "data": {
      "image/png": "[encoded data removed]",
      "text/plain": [
       "<Figure size 432x288 with 1 Axes>"
      ]
     },
     "metadata": {
      "needs_background": "light"
     },
     "output_type": "display_data"
    }
   ],
   "source": [
    "solution, latency = bees.search(objective, particle_placement_loss, T)\n",
    "solution_x, solution_y = solution\n",
    "print(solution)\n",
    "print(latency)\n",
    "bees.plot_history()"
   ]
  },
  {
   "cell_type": "code",
   "execution_count": 83,
   "metadata": {},
   "outputs": [
    {
     "data": {
      "image/png": "[encoded data removed]",
      "text/plain": [
       "<Figure size 432x288 with 1 Axes>"
      ]
     },
     "metadata": {
      "needs_background": "light"
     },
     "output_type": "display_data"
    }
   ],
   "source": [
    "solution_positions = np.array(np.split(solution_x, k))\n",
    "plt.scatter(solution_positions.T[0], solution_positions.T[1])\n",
    "plt.show()"
   ]
  },
  {
   "cell_type": "code",
   "execution_count": null,
   "metadata": {},
   "outputs": [],
   "source": []
  }
 ],
 "metadata": {
  "kernelspec": {
   "display_name": "Python 3",
   "language": "python",
   "name": "python3"
  },
  "language_info": {
   "codemirror_mode": {
    "name": "ipython",
    "version": 3
   },
   "file_extension": ".py",
   "mimetype": "text/x-python",
   "name": "python",
   "nbconvert_exporter": "python",
   "pygments_lexer": "ipython3",
   "version": "3.6.8"
  }
 },
 "nbformat": 4,
 "nbformat_minor": 2
}
