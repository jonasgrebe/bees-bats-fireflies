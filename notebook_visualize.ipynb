{
 "cells": [
  {
   "cell_type": "markdown",
   "metadata": {},
   "source": [
    "# Visualization of the Metaheuristics"
   ]
  },
  {
   "cell_type": "markdown",
   "metadata": {},
   "source": [
    "predefine some benchmarking functions"
   ]
  },
  {
   "cell_type": "code",
   "execution_count": 1,
   "metadata": {},
   "outputs": [],
   "source": [
    "sphere_fct = lambda x: sum([x[i]**2 for i in range(len(x))])\n",
    "rosenbrock_fct = lambda x: sum([100*(x[i+1]-x[i])**2+(1-x[i])**2 for i in range(len(x)-1)]) if len(x)>1 else np.nan\n",
    "rastrigin_fct = lambda x: 10*len(x)+sum([x[i]**2-10*np.cos(2*np.pi*x[i]) for i in range(len(x))])\n",
    "qing_fct = lambda x: sum([(x[i]**2-i-1)**2 for i in range(len(x))])"
   ]
  },
  {
   "cell_type": "markdown",
   "metadata": {},
   "source": [
    "setup the optimization problem"
   ]
  },
  {
   "cell_type": "code",
   "execution_count": 2,
   "metadata": {},
   "outputs": [],
   "source": [
    "objective = 'min'\n",
    "objective_fct = rosenbrock_fct\n",
    "\n",
    "n, d = 50, 2\n",
    "range_min, range_max = (-5, -5), (5, 5)\n",
    "\n",
    "T = 100"
   ]
  },
  {
   "cell_type": "markdown",
   "metadata": {},
   "source": [
    "instantiate the metaheuristic algorithm"
   ]
  },
  {
   "cell_type": "code",
   "execution_count": 3,
   "metadata": {},
   "outputs": [],
   "source": [
    "from metaheuristics.bees import BeesAlgorithm, ImprovedBeesAlgorithm\n",
    "from metaheuristics.bat import BatAlgorithm\n",
    "from metaheuristics.firefly import FireflyAlgorithm"
   ]
  },
  {
   "cell_type": "code",
   "execution_count": 4,
   "metadata": {},
   "outputs": [
    {
     "name": "stdout",
     "output_type": "stream",
     "text": [
      "bees {'d': 2, 'n': 50, 'range_min': (-5, -5), 'range_max': (5, 5), 'nb': 15, 'ne': 5, 'nrb': 5, 'nre': 10}\n",
      "bat {'d': 2, 'n': 50, 'range_min': (-5, -5), 'range_max': (5, 5), 'a': 10.0, 'r_min': 0.5, 'r_max': 1.0, 'alpha': 0.99, 'gamma': 0.9, 'f_min': 1.0, 'f_max': 5.0}\n",
      "firefly {'d': 2, 'n': 50, 'range_min': (-5, -5), 'range_max': (5, 5), 'alpha': 0.5, 'beta_max': 1.0, 'gamma': 0.5}\n"
     ]
    }
   ],
   "source": [
    "bees = BeesAlgorithm(d=d, n=n, range_min=range_min, range_max=range_max,\n",
    "                     nb=int(0.3*n), ne=int(0.1*n), nrb=int(0.1*n), nre=int(0.2*n))\n",
    "\n",
    "bat = BatAlgorithm(d=d, n=n, range_min=range_min, range_max=range_max,\n",
    "       a=10.0, r_min=0.5, r_max=1.0, alpha=0.99, gamma=0.9, f_min=1.0, f_max=5.0)\n",
    "\n",
    "firefly = FireflyAlgorithm(d=d, n=n, range_min=range_min, range_max=range_max,\n",
    "                           alpha=0.5, beta_max=1.0, gamma=0.5)"
   ]
  },
  {
   "cell_type": "markdown",
   "metadata": {},
   "source": [
    "start the search for each algorithm of interest and generate the animation (\"bees.gif\", \"bat.gif\" and \"firefly.gif\")"
   ]
  },
  {
   "cell_type": "code",
   "execution_count": 5,
   "metadata": {},
   "outputs": [
    {
     "data": {
      "image/png": "[encoded data removed]",
      "text/plain": [
       "<Figure size 432x288 with 1 Axes>"
      ]
     },
     "metadata": {
      "needs_background": "light"
     },
     "output_type": "display_data"
    },
    {
     "data": {
      "image/png": "[encoded data removed]",
      "text/plain": [
       "<Figure size 432x288 with 1 Axes>"
      ]
     },
     "metadata": {
      "needs_background": "light"
     },
     "output_type": "display_data"
    },
    {
     "data": {
      "image/png": "[encoded data removed]",
      "text/plain": [
       "<Figure size 432x288 with 1 Axes>"
      ]
     },
     "metadata": {
      "needs_background": "light"
     },
     "output_type": "display_data"
    }
   ],
   "source": [
    "for algo in [bees, bat, firefly]:\n",
    "    solution, latency = algo.search(objective, objective_fct, T, visualize=True)\n",
    "    algo.plot_history()\n",
    "    algo.generate_gif()"
   ]
  },
  {
   "cell_type": "markdown",
   "metadata": {},
   "source": [
    "# Bees Algorithm Animation"
   ]
  },
  {
   "cell_type": "markdown",
   "metadata": {},
   "source": [
    "![BeesGIF](bees.gif \"bees visualization\")"
   ]
  },
  {
   "cell_type": "markdown",
   "metadata": {},
   "source": [
    "# Bat Algorithm Animation"
   ]
  },
  {
   "cell_type": "markdown",
   "metadata": {},
   "source": [
    "![BatGIF](bat.gif \"bat visualization\")"
   ]
  },
  {
   "cell_type": "markdown",
   "metadata": {},
   "source": [
    "# Firefly Algorithm Animation"
   ]
  },
  {
   "cell_type": "markdown",
   "metadata": {},
   "source": [
    "![FireflyGIF](firefly.gif \"firefly visualization\")"
   ]
  },
  {
   "cell_type": "code",
   "execution_count": null,
   "metadata": {},
   "outputs": [],
   "source": []
  }
 ],
 "metadata": {
  "kernelspec": {
   "display_name": "Python 3",
   "language": "python",
   "name": "python3"
  },
  "language_info": {
   "codemirror_mode": {
    "name": "ipython",
    "version": 3
   },
   "file_extension": ".py",
   "mimetype": "text/x-python",
   "name": "python",
   "nbconvert_exporter": "python",
   "pygments_lexer": "ipython3",
   "version": "3.6.8"
  }
 },
 "nbformat": 4,
 "nbformat_minor": 2
}
