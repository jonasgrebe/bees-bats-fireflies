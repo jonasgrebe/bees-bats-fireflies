{
 "cells": [
  {
   "cell_type": "markdown",
   "metadata": {},
   "source": [
    "# Spring Design Experiment"
   ]
  },
  {
   "cell_type": "code",
   "execution_count": 1,
   "metadata": {},
   "outputs": [],
   "source": [
    "import numpy as np\n",
    "import matplotlib.pyplot as plt"
   ]
  },
  {
   "cell_type": "markdown",
   "metadata": {},
   "source": [
    "specify the objective function"
   ]
  },
  {
   "cell_type": "code",
   "execution_count": 2,
   "metadata": {},
   "outputs": [],
   "source": [
    "def weight(x):\n",
    "    return (x[2]+2)*x[1]*x[0]**2"
   ]
  },
  {
   "cell_type": "markdown",
   "metadata": {},
   "source": [
    "define the constraints"
   ]
  },
  {
   "cell_type": "code",
   "execution_count": 3,
   "metadata": {},
   "outputs": [],
   "source": [
    "def constraint_1(x):\n",
    "    return 71785*x[0]**4 <= x[1]**3*x[2]\n",
    "\n",
    "def constraint_2(x):\n",
    "    a = 4*x[1]**2 - x[0]*x[1]\n",
    "    a /= 12566 * (x[1]*x[0]**3 - x[0]**4)\n",
    "    \n",
    "    b = 1\n",
    "    b /= 5108 * x[0]**2\n",
    "    \n",
    "    return a + b <= 1\n",
    "\n",
    "def constraint_3(x):    \n",
    "    return x[1]**2*x[2] <= 140.45*x[0]\n",
    "\n",
    "def constraint_4(x):\n",
    "    return x[1]+x[0] <= 1.5\n",
    "\n",
    "\n",
    "constraints = [constraint_1, constraint_2, constraint_3, constraint_4]"
   ]
  },
  {
   "cell_type": "markdown",
   "metadata": {},
   "source": [
    "define the barrier function"
   ]
  },
  {
   "cell_type": "code",
   "execution_count": 4,
   "metadata": {},
   "outputs": [],
   "source": [
    "def barrier_fct(x):\n",
    "    for constraint in constraints:\n",
    "        if not constraint(x):\n",
    "            return np.infty\n",
    "    return 0"
   ]
  },
  {
   "cell_type": "code",
   "execution_count": 5,
   "metadata": {},
   "outputs": [],
   "source": [
    "global_minimum = np.array([0.05044713178541634, 0.32746441361099429, 13.23998350856038107])\n"
   ]
  },
  {
   "cell_type": "markdown",
   "metadata": {},
   "source": [
    "setup the (constrained) minimization problem"
   ]
  },
  {
   "cell_type": "code",
   "execution_count": 6,
   "metadata": {},
   "outputs": [],
   "source": [
    "objective = 'min'\n",
    "objective_fct = lambda x: weight(x) + barrier_fct(x)"
   ]
  },
  {
   "cell_type": "code",
   "execution_count": 7,
   "metadata": {},
   "outputs": [],
   "source": [
    "d, n = 3, 250\n",
    "range_min, range_max = (0.05, 0.25, 2.0), (2.0, 1.3, 15.0)\n",
    "\n",
    "T = 100"
   ]
  },
  {
   "cell_type": "markdown",
   "metadata": {},
   "source": [
    "import the metaheuristic algorithm and instantiate it"
   ]
  },
  {
   "cell_type": "code",
   "execution_count": 8,
   "metadata": {},
   "outputs": [],
   "source": [
    "from metaheuristics.random import RandomSamplingAlgorithm\n",
    "from metaheuristics.bees import BeesAlgorithm, ImprovedBeesAlgorithm\n",
    "from metaheuristics.bat import BatAlgorithm\n",
    "from metaheuristics.firefly import FireflyAlgorithm"
   ]
  },
  {
   "cell_type": "code",
   "execution_count": 9,
   "metadata": {},
   "outputs": [
    {
     "name": "stdout",
     "output_type": "stream",
     "text": [
      "bees {'d': 3, 'n': 250, 'range_min': (0.05, 0.25, 2.0), 'range_max': (2.0, 1.3, 15.0), 'nb': 100, 'ne': 20, 'nrb': 10, 'nre': 50}\n"
     ]
    }
   ],
   "source": [
    "algo = BeesAlgorithm(d=d, n=n, range_min=range_min, range_max=range_max,\n",
    "                     nb=100, ne=20, nrb=10, nre=50)"
   ]
  },
  {
   "cell_type": "markdown",
   "metadata": {},
   "source": [
    "start the search"
   ]
  },
  {
   "cell_type": "code",
   "execution_count": 10,
   "metadata": {},
   "outputs": [
    {
     "name": "stderr",
     "output_type": "stream",
     "text": [
      "C:\\Users\\Jonas\\Documents\\GitHub\\bees-bats-fireflies\\metaheuristics\\base.py:60: RuntimeWarning: invalid value encountered in double_scalars\n",
      "  return v0 - v1\n"
     ]
    },
    {
     "name": "stdout",
     "output_type": "stream",
     "text": [
      "(x, y): (array([0.05800555, 0.52062316, 5.78099713]), 0.01363006325649786)\n",
      "latency 2.390625\n"
     ]
    }
   ],
   "source": [
    "solution, latency = algo.search(objective, objective_fct, T, visualize=False)\n",
    "print(\"(x, y):\", solution)\n",
    "print(\"latency\", latency)"
   ]
  },
  {
   "cell_type": "code",
   "execution_count": 11,
   "metadata": {},
   "outputs": [
    {
     "name": "stdout",
     "output_type": "stream",
     "text": [
      "global minimum value: 0.012700521857351483\n"
     ]
    }
   ],
   "source": [
    "print(\"global minimum value:\", objective_fct(global_minimum))"
   ]
  }
 ],
 "metadata": {
  "kernelspec": {
   "display_name": "Python 3",
   "language": "python",
   "name": "python3"
  },
  "language_info": {
   "codemirror_mode": {
    "name": "ipython",
    "version": 3
   },
   "file_extension": ".py",
   "mimetype": "text/x-python",
   "name": "python",
   "nbconvert_exporter": "python",
   "pygments_lexer": "ipython3",
   "version": "3.6.8"
  }
 },
 "nbformat": 4,
 "nbformat_minor": 2
}
